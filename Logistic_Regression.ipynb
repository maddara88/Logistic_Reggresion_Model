{
 "cells": [
  {
   "cell_type": "code",
   "execution_count": 1,
   "id": "46ca4ca7",
   "metadata": {},
   "outputs": [],
   "source": [
    "import numpy as np\n",
    "import pandas as pd\n",
    "import matplotlib.pyplot as plt\n",
    "import seaborn as sns"
   ]
  },
  {
   "cell_type": "code",
   "execution_count": 2,
   "id": "af1283a7",
   "metadata": {},
   "outputs": [],
   "source": [
    "df = pd.read_csv(\"C:\\\\Users\\\\HP\\\\Downloads\\\\ml\\\\Logistic_Regression\\\\bank-additional-full (1).csv\",sep = \";\")"
   ]
  },
  {
   "cell_type": "code",
   "execution_count": 3,
   "id": "2c932d56",
   "metadata": {},
   "outputs": [
    {
     "data": {
      "text/html": [
       "<div>\n",
       "<style scoped>\n",
       "    .dataframe tbody tr th:only-of-type {\n",
       "        vertical-align: middle;\n",
       "    }\n",
       "\n",
       "    .dataframe tbody tr th {\n",
       "        vertical-align: top;\n",
       "    }\n",
       "\n",
       "    .dataframe thead th {\n",
       "        text-align: right;\n",
       "    }\n",
       "</style>\n",
       "<table border=\"1\" class=\"dataframe\">\n",
       "  <thead>\n",
       "    <tr style=\"text-align: right;\">\n",
       "      <th></th>\n",
       "      <th>age</th>\n",
       "      <th>job</th>\n",
       "      <th>marital</th>\n",
       "      <th>education</th>\n",
       "      <th>default</th>\n",
       "      <th>housing</th>\n",
       "      <th>loan</th>\n",
       "      <th>contact</th>\n",
       "      <th>month</th>\n",
       "      <th>day_of_week</th>\n",
       "      <th>...</th>\n",
       "      <th>campaign</th>\n",
       "      <th>pdays</th>\n",
       "      <th>previous</th>\n",
       "      <th>poutcome</th>\n",
       "      <th>emp.var.rate</th>\n",
       "      <th>cons.price.idx</th>\n",
       "      <th>cons.conf.idx</th>\n",
       "      <th>euribor3m</th>\n",
       "      <th>nr.employed</th>\n",
       "      <th>y</th>\n",
       "    </tr>\n",
       "  </thead>\n",
       "  <tbody>\n",
       "    <tr>\n",
       "      <th>0</th>\n",
       "      <td>56.0</td>\n",
       "      <td>housemaid</td>\n",
       "      <td>married</td>\n",
       "      <td>basic.4y</td>\n",
       "      <td>no</td>\n",
       "      <td>no</td>\n",
       "      <td>no</td>\n",
       "      <td>telephone</td>\n",
       "      <td>may</td>\n",
       "      <td>mon</td>\n",
       "      <td>...</td>\n",
       "      <td>1.0</td>\n",
       "      <td>999.0</td>\n",
       "      <td>0.0</td>\n",
       "      <td>nonexistent</td>\n",
       "      <td>1.1</td>\n",
       "      <td>93.994</td>\n",
       "      <td>-36.4</td>\n",
       "      <td>4.857</td>\n",
       "      <td>5191.0</td>\n",
       "      <td>no</td>\n",
       "    </tr>\n",
       "    <tr>\n",
       "      <th>1</th>\n",
       "      <td>57.0</td>\n",
       "      <td>services</td>\n",
       "      <td>married</td>\n",
       "      <td>high.school</td>\n",
       "      <td>unknown</td>\n",
       "      <td>no</td>\n",
       "      <td>no</td>\n",
       "      <td>telephone</td>\n",
       "      <td>may</td>\n",
       "      <td>mon</td>\n",
       "      <td>...</td>\n",
       "      <td>1.0</td>\n",
       "      <td>999.0</td>\n",
       "      <td>0.0</td>\n",
       "      <td>nonexistent</td>\n",
       "      <td>1.1</td>\n",
       "      <td>93.994</td>\n",
       "      <td>-36.4</td>\n",
       "      <td>4.857</td>\n",
       "      <td>5191.0</td>\n",
       "      <td>no</td>\n",
       "    </tr>\n",
       "    <tr>\n",
       "      <th>2</th>\n",
       "      <td>37.0</td>\n",
       "      <td>services</td>\n",
       "      <td>married</td>\n",
       "      <td>high.school</td>\n",
       "      <td>no</td>\n",
       "      <td>yes</td>\n",
       "      <td>no</td>\n",
       "      <td>telephone</td>\n",
       "      <td>may</td>\n",
       "      <td>mon</td>\n",
       "      <td>...</td>\n",
       "      <td>1.0</td>\n",
       "      <td>999.0</td>\n",
       "      <td>0.0</td>\n",
       "      <td>nonexistent</td>\n",
       "      <td>1.1</td>\n",
       "      <td>93.994</td>\n",
       "      <td>-36.4</td>\n",
       "      <td>4.857</td>\n",
       "      <td>5191.0</td>\n",
       "      <td>no</td>\n",
       "    </tr>\n",
       "    <tr>\n",
       "      <th>3</th>\n",
       "      <td>40.0</td>\n",
       "      <td>admin.</td>\n",
       "      <td>married</td>\n",
       "      <td>basic.6y</td>\n",
       "      <td>no</td>\n",
       "      <td>no</td>\n",
       "      <td>no</td>\n",
       "      <td>telephone</td>\n",
       "      <td>may</td>\n",
       "      <td>mon</td>\n",
       "      <td>...</td>\n",
       "      <td>1.0</td>\n",
       "      <td>999.0</td>\n",
       "      <td>0.0</td>\n",
       "      <td>nonexistent</td>\n",
       "      <td>1.1</td>\n",
       "      <td>93.994</td>\n",
       "      <td>-36.4</td>\n",
       "      <td>4.857</td>\n",
       "      <td>5191.0</td>\n",
       "      <td>no</td>\n",
       "    </tr>\n",
       "    <tr>\n",
       "      <th>4</th>\n",
       "      <td>56.0</td>\n",
       "      <td>services</td>\n",
       "      <td>married</td>\n",
       "      <td>high.school</td>\n",
       "      <td>no</td>\n",
       "      <td>no</td>\n",
       "      <td>yes</td>\n",
       "      <td>telephone</td>\n",
       "      <td>may</td>\n",
       "      <td>mon</td>\n",
       "      <td>...</td>\n",
       "      <td>1.0</td>\n",
       "      <td>999.0</td>\n",
       "      <td>0.0</td>\n",
       "      <td>nonexistent</td>\n",
       "      <td>1.1</td>\n",
       "      <td>93.994</td>\n",
       "      <td>-36.4</td>\n",
       "      <td>4.857</td>\n",
       "      <td>5191.0</td>\n",
       "      <td>no</td>\n",
       "    </tr>\n",
       "  </tbody>\n",
       "</table>\n",
       "<p>5 rows × 21 columns</p>\n",
       "</div>"
      ],
      "text/plain": [
       "    age        job  marital    education  default housing loan    contact  \\\n",
       "0  56.0  housemaid  married     basic.4y       no      no   no  telephone   \n",
       "1  57.0   services  married  high.school  unknown      no   no  telephone   \n",
       "2  37.0   services  married  high.school       no     yes   no  telephone   \n",
       "3  40.0     admin.  married     basic.6y       no      no   no  telephone   \n",
       "4  56.0   services  married  high.school       no      no  yes  telephone   \n",
       "\n",
       "  month day_of_week  ...  campaign  pdays  previous     poutcome emp.var.rate  \\\n",
       "0   may         mon  ...       1.0  999.0       0.0  nonexistent          1.1   \n",
       "1   may         mon  ...       1.0  999.0       0.0  nonexistent          1.1   \n",
       "2   may         mon  ...       1.0  999.0       0.0  nonexistent          1.1   \n",
       "3   may         mon  ...       1.0  999.0       0.0  nonexistent          1.1   \n",
       "4   may         mon  ...       1.0  999.0       0.0  nonexistent          1.1   \n",
       "\n",
       "   cons.price.idx  cons.conf.idx  euribor3m  nr.employed   y  \n",
       "0          93.994          -36.4      4.857       5191.0  no  \n",
       "1          93.994          -36.4      4.857       5191.0  no  \n",
       "2          93.994          -36.4      4.857       5191.0  no  \n",
       "3          93.994          -36.4      4.857       5191.0  no  \n",
       "4          93.994          -36.4      4.857       5191.0  no  \n",
       "\n",
       "[5 rows x 21 columns]"
      ]
     },
     "execution_count": 3,
     "metadata": {},
     "output_type": "execute_result"
    }
   ],
   "source": [
    "df.head()"
   ]
  },
  {
   "cell_type": "code",
   "execution_count": 4,
   "id": "fec70211",
   "metadata": {},
   "outputs": [
    {
     "data": {
      "text/plain": [
       "(41199, 21)"
      ]
     },
     "execution_count": 4,
     "metadata": {},
     "output_type": "execute_result"
    }
   ],
   "source": [
    "df.shape"
   ]
  },
  {
   "cell_type": "code",
   "execution_count": 5,
   "id": "dad85eb5",
   "metadata": {},
   "outputs": [
    {
     "name": "stdout",
     "output_type": "stream",
     "text": [
      "<class 'pandas.core.frame.DataFrame'>\n",
      "RangeIndex: 41199 entries, 0 to 41198\n",
      "Data columns (total 21 columns):\n",
      " #   Column          Non-Null Count  Dtype  \n",
      "---  ------          --------------  -----  \n",
      " 0   age             41195 non-null  float64\n",
      " 1   job             41194 non-null  object \n",
      " 2   marital         41194 non-null  object \n",
      " 3   education       41194 non-null  object \n",
      " 4   default         41195 non-null  object \n",
      " 5   housing         41196 non-null  object \n",
      " 6   loan            41195 non-null  object \n",
      " 7   contact         41195 non-null  object \n",
      " 8   month           41196 non-null  object \n",
      " 9   day_of_week     41196 non-null  object \n",
      " 10  duration        41196 non-null  float64\n",
      " 11  campaign        41196 non-null  float64\n",
      " 12  pdays           41196 non-null  float64\n",
      " 13  previous        41196 non-null  float64\n",
      " 14  poutcome        41194 non-null  object \n",
      " 15  emp.var.rate    41196 non-null  float64\n",
      " 16  cons.price.idx  41195 non-null  float64\n",
      " 17  cons.conf.idx   41196 non-null  float64\n",
      " 18  euribor3m       41196 non-null  float64\n",
      " 19  nr.employed     41196 non-null  float64\n",
      " 20  y               41196 non-null  object \n",
      "dtypes: float64(10), object(11)\n",
      "memory usage: 6.6+ MB\n"
     ]
    }
   ],
   "source": [
    "df.info()"
   ]
  },
  {
   "cell_type": "code",
   "execution_count": 6,
   "id": "450ee3c8",
   "metadata": {},
   "outputs": [
    {
     "data": {
      "text/plain": [
       "age               4\n",
       "job               5\n",
       "marital           5\n",
       "education         5\n",
       "default           4\n",
       "housing           3\n",
       "loan              4\n",
       "contact           4\n",
       "month             3\n",
       "day_of_week       3\n",
       "duration          3\n",
       "campaign          3\n",
       "pdays             3\n",
       "previous          3\n",
       "poutcome          5\n",
       "emp.var.rate      3\n",
       "cons.price.idx    4\n",
       "cons.conf.idx     3\n",
       "euribor3m         3\n",
       "nr.employed       3\n",
       "y                 3\n",
       "dtype: int64"
      ]
     },
     "execution_count": 6,
     "metadata": {},
     "output_type": "execute_result"
    }
   ],
   "source": [
    "#lets frist check if there is any null values present \n",
    "\n",
    "df.isnull().sum()"
   ]
  },
  {
   "cell_type": "code",
   "execution_count": 7,
   "id": "c2ab16c5",
   "metadata": {},
   "outputs": [],
   "source": [
    "#here as we are having only a small amount of null values present we will be filling it with mean/mode"
   ]
  },
  {
   "cell_type": "code",
   "execution_count": 8,
   "id": "9e528c49",
   "metadata": {},
   "outputs": [],
   "source": [
    "col = list(df.columns)"
   ]
  },
  {
   "cell_type": "code",
   "execution_count": 9,
   "id": "ef799609",
   "metadata": {},
   "outputs": [],
   "source": [
    "for i in col:\n",
    "    if df[i].dtype == \"float64\":\n",
    "        df[i] = df[i].fillna(df[i].mean())\n",
    "    else:\n",
    "        df[i] = df[i].fillna(df[i].mode()[0])"
   ]
  },
  {
   "cell_type": "code",
   "execution_count": 10,
   "id": "f9fbfaef",
   "metadata": {},
   "outputs": [
    {
     "data": {
      "text/plain": [
       "age               0\n",
       "job               0\n",
       "marital           0\n",
       "education         0\n",
       "default           0\n",
       "housing           0\n",
       "loan              0\n",
       "contact           0\n",
       "month             0\n",
       "day_of_week       0\n",
       "duration          0\n",
       "campaign          0\n",
       "pdays             0\n",
       "previous          0\n",
       "poutcome          0\n",
       "emp.var.rate      0\n",
       "cons.price.idx    0\n",
       "cons.conf.idx     0\n",
       "euribor3m         0\n",
       "nr.employed       0\n",
       "y                 0\n",
       "dtype: int64"
      ]
     },
     "execution_count": 10,
     "metadata": {},
     "output_type": "execute_result"
    }
   ],
   "source": [
    "df.isnull().sum()"
   ]
  },
  {
   "cell_type": "code",
   "execution_count": 11,
   "id": "94d29f9c",
   "metadata": {},
   "outputs": [],
   "source": [
    "#Now we have replaced all our null values"
   ]
  },
  {
   "cell_type": "code",
   "execution_count": 12,
   "id": "62e4d35c",
   "metadata": {},
   "outputs": [],
   "source": [
    "#Now in our dependent variable we have yes,no data which we have to replace with 1,0 as Logistic regression\n",
    "# is a type of statistical analysis used to predict the outcome of a binary (two-class) categorical variable\n",
    "# based on one or more predictor variables. It is a type of generalized linear model that models the relationship \n",
    "# between the dependent variable (the binary outcome) and the independent variables (the predictor variables) using\n",
    "# a logistic function.\n",
    "\n",
    "# In logistic regression, the dependent variable is usually represented by a binary\n",
    "# variable (e.g., 0 or 1, true or false, yes or no). The independent variables can be\n",
    "# either continuous or categorical. The logistic function is used to transform the linear\n",
    "# combination of the independent variables into a value between 0 and 1, which can be\n",
    "# interpreted as the probability of the outcome being in one of the binary categories."
   ]
  },
  {
   "cell_type": "code",
   "execution_count": 13,
   "id": "12b8aebc",
   "metadata": {},
   "outputs": [],
   "source": [
    "df[\"y\"] = np.where(df[\"y\"] ==\"yes\",1,0)\n",
    "df[\"y\"] = df[\"y\"].astype(str)"
   ]
  },
  {
   "cell_type": "code",
   "execution_count": 14,
   "id": "c20ca759",
   "metadata": {},
   "outputs": [
    {
     "data": {
      "text/html": [
       "<div>\n",
       "<style scoped>\n",
       "    .dataframe tbody tr th:only-of-type {\n",
       "        vertical-align: middle;\n",
       "    }\n",
       "\n",
       "    .dataframe tbody tr th {\n",
       "        vertical-align: top;\n",
       "    }\n",
       "\n",
       "    .dataframe thead th {\n",
       "        text-align: right;\n",
       "    }\n",
       "</style>\n",
       "<table border=\"1\" class=\"dataframe\">\n",
       "  <thead>\n",
       "    <tr style=\"text-align: right;\">\n",
       "      <th></th>\n",
       "      <th>age</th>\n",
       "      <th>job</th>\n",
       "      <th>marital</th>\n",
       "      <th>education</th>\n",
       "      <th>default</th>\n",
       "      <th>housing</th>\n",
       "      <th>loan</th>\n",
       "      <th>contact</th>\n",
       "      <th>month</th>\n",
       "      <th>day_of_week</th>\n",
       "      <th>...</th>\n",
       "      <th>campaign</th>\n",
       "      <th>pdays</th>\n",
       "      <th>previous</th>\n",
       "      <th>poutcome</th>\n",
       "      <th>emp.var.rate</th>\n",
       "      <th>cons.price.idx</th>\n",
       "      <th>cons.conf.idx</th>\n",
       "      <th>euribor3m</th>\n",
       "      <th>nr.employed</th>\n",
       "      <th>y</th>\n",
       "    </tr>\n",
       "  </thead>\n",
       "  <tbody>\n",
       "    <tr>\n",
       "      <th>0</th>\n",
       "      <td>56.0</td>\n",
       "      <td>housemaid</td>\n",
       "      <td>married</td>\n",
       "      <td>basic.4y</td>\n",
       "      <td>no</td>\n",
       "      <td>no</td>\n",
       "      <td>no</td>\n",
       "      <td>telephone</td>\n",
       "      <td>may</td>\n",
       "      <td>mon</td>\n",
       "      <td>...</td>\n",
       "      <td>1.0</td>\n",
       "      <td>999.0</td>\n",
       "      <td>0.0</td>\n",
       "      <td>nonexistent</td>\n",
       "      <td>1.1</td>\n",
       "      <td>93.994</td>\n",
       "      <td>-36.4</td>\n",
       "      <td>4.857</td>\n",
       "      <td>5191.0</td>\n",
       "      <td>0</td>\n",
       "    </tr>\n",
       "    <tr>\n",
       "      <th>1</th>\n",
       "      <td>57.0</td>\n",
       "      <td>services</td>\n",
       "      <td>married</td>\n",
       "      <td>high.school</td>\n",
       "      <td>unknown</td>\n",
       "      <td>no</td>\n",
       "      <td>no</td>\n",
       "      <td>telephone</td>\n",
       "      <td>may</td>\n",
       "      <td>mon</td>\n",
       "      <td>...</td>\n",
       "      <td>1.0</td>\n",
       "      <td>999.0</td>\n",
       "      <td>0.0</td>\n",
       "      <td>nonexistent</td>\n",
       "      <td>1.1</td>\n",
       "      <td>93.994</td>\n",
       "      <td>-36.4</td>\n",
       "      <td>4.857</td>\n",
       "      <td>5191.0</td>\n",
       "      <td>0</td>\n",
       "    </tr>\n",
       "    <tr>\n",
       "      <th>2</th>\n",
       "      <td>37.0</td>\n",
       "      <td>services</td>\n",
       "      <td>married</td>\n",
       "      <td>high.school</td>\n",
       "      <td>no</td>\n",
       "      <td>yes</td>\n",
       "      <td>no</td>\n",
       "      <td>telephone</td>\n",
       "      <td>may</td>\n",
       "      <td>mon</td>\n",
       "      <td>...</td>\n",
       "      <td>1.0</td>\n",
       "      <td>999.0</td>\n",
       "      <td>0.0</td>\n",
       "      <td>nonexistent</td>\n",
       "      <td>1.1</td>\n",
       "      <td>93.994</td>\n",
       "      <td>-36.4</td>\n",
       "      <td>4.857</td>\n",
       "      <td>5191.0</td>\n",
       "      <td>0</td>\n",
       "    </tr>\n",
       "    <tr>\n",
       "      <th>3</th>\n",
       "      <td>40.0</td>\n",
       "      <td>admin.</td>\n",
       "      <td>married</td>\n",
       "      <td>basic.6y</td>\n",
       "      <td>no</td>\n",
       "      <td>no</td>\n",
       "      <td>no</td>\n",
       "      <td>telephone</td>\n",
       "      <td>may</td>\n",
       "      <td>mon</td>\n",
       "      <td>...</td>\n",
       "      <td>1.0</td>\n",
       "      <td>999.0</td>\n",
       "      <td>0.0</td>\n",
       "      <td>nonexistent</td>\n",
       "      <td>1.1</td>\n",
       "      <td>93.994</td>\n",
       "      <td>-36.4</td>\n",
       "      <td>4.857</td>\n",
       "      <td>5191.0</td>\n",
       "      <td>0</td>\n",
       "    </tr>\n",
       "    <tr>\n",
       "      <th>4</th>\n",
       "      <td>56.0</td>\n",
       "      <td>services</td>\n",
       "      <td>married</td>\n",
       "      <td>high.school</td>\n",
       "      <td>no</td>\n",
       "      <td>no</td>\n",
       "      <td>yes</td>\n",
       "      <td>telephone</td>\n",
       "      <td>may</td>\n",
       "      <td>mon</td>\n",
       "      <td>...</td>\n",
       "      <td>1.0</td>\n",
       "      <td>999.0</td>\n",
       "      <td>0.0</td>\n",
       "      <td>nonexistent</td>\n",
       "      <td>1.1</td>\n",
       "      <td>93.994</td>\n",
       "      <td>-36.4</td>\n",
       "      <td>4.857</td>\n",
       "      <td>5191.0</td>\n",
       "      <td>0</td>\n",
       "    </tr>\n",
       "  </tbody>\n",
       "</table>\n",
       "<p>5 rows × 21 columns</p>\n",
       "</div>"
      ],
      "text/plain": [
       "    age        job  marital    education  default housing loan    contact  \\\n",
       "0  56.0  housemaid  married     basic.4y       no      no   no  telephone   \n",
       "1  57.0   services  married  high.school  unknown      no   no  telephone   \n",
       "2  37.0   services  married  high.school       no     yes   no  telephone   \n",
       "3  40.0     admin.  married     basic.6y       no      no   no  telephone   \n",
       "4  56.0   services  married  high.school       no      no  yes  telephone   \n",
       "\n",
       "  month day_of_week  ...  campaign  pdays  previous     poutcome emp.var.rate  \\\n",
       "0   may         mon  ...       1.0  999.0       0.0  nonexistent          1.1   \n",
       "1   may         mon  ...       1.0  999.0       0.0  nonexistent          1.1   \n",
       "2   may         mon  ...       1.0  999.0       0.0  nonexistent          1.1   \n",
       "3   may         mon  ...       1.0  999.0       0.0  nonexistent          1.1   \n",
       "4   may         mon  ...       1.0  999.0       0.0  nonexistent          1.1   \n",
       "\n",
       "   cons.price.idx  cons.conf.idx  euribor3m  nr.employed  y  \n",
       "0          93.994          -36.4      4.857       5191.0  0  \n",
       "1          93.994          -36.4      4.857       5191.0  0  \n",
       "2          93.994          -36.4      4.857       5191.0  0  \n",
       "3          93.994          -36.4      4.857       5191.0  0  \n",
       "4          93.994          -36.4      4.857       5191.0  0  \n",
       "\n",
       "[5 rows x 21 columns]"
      ]
     },
     "execution_count": 14,
     "metadata": {},
     "output_type": "execute_result"
    }
   ],
   "source": [
    "df.head()"
   ]
  },
  {
   "cell_type": "code",
   "execution_count": 15,
   "id": "35a8d3c1",
   "metadata": {},
   "outputs": [
    {
     "name": "stderr",
     "output_type": "stream",
     "text": [
      "C:\\Users\\HP\\anaconda3\\lib\\site-packages\\seaborn\\distributions.py:2619: FutureWarning: `distplot` is a deprecated function and will be removed in a future version. Please adapt your code to use either `displot` (a figure-level function with similar flexibility) or `histplot` (an axes-level function for histograms).\n",
      "  warnings.warn(msg, FutureWarning)\n"
     ]
    },
    {
     "data": {
      "text/plain": [
       "<AxesSubplot:ylabel='Density'>"
      ]
     },
     "execution_count": 15,
     "metadata": {},
     "output_type": "execute_result"
    },
    {
     "data": {
      "image/png": "[encoded data removed]",
      "text/plain": [
       "<Figure size 432x288 with 1 Axes>"
      ]
     },
     "metadata": {
      "needs_background": "light"
     },
     "output_type": "display_data"
    }
   ],
   "source": [
    "#Lets check if our data is normaly distributed or not \n",
    "\n",
    "sns.distplot(x =df[\"age\"])"
   ]
  },
  {
   "cell_type": "code",
   "execution_count": 16,
   "id": "164c26a6",
   "metadata": {},
   "outputs": [],
   "source": [
    "#so here our data is right skewed Right skewed (also known as positively skewed) refers to the shape \n",
    "# of a distribution of data that has a long tail on the right-hand side of the distribution.\n",
    "# This means that the majority of the data is clustered on the left-hand side, with a smaller \n",
    "# proportion of values spread out towards the right-hand side.\n",
    "\n",
    "# In a right skewed distribution, the mean is typically greater than the median, which is greater than the mode.\n",
    "# This is because the long tail on the right-hand side pulls the mean to the right,\n",
    "# while the median is less affected by extreme values and represents the middle value of the data,\n",
    "# and the mode is the most frequently occurring value."
   ]
  },
  {
   "cell_type": "code",
   "execution_count": 17,
   "id": "7196819e",
   "metadata": {},
   "outputs": [],
   "source": [
    "# So now lets check for outliers"
   ]
  },
  {
   "cell_type": "code",
   "execution_count": 18,
   "id": "832863be",
   "metadata": {},
   "outputs": [],
   "source": [
    "col1 = []\n",
    "for i in col:\n",
    "    if df[i].dtype == \"float64\":\n",
    "        col1.append(i)"
   ]
  },
  {
   "cell_type": "code",
   "execution_count": 19,
   "id": "36cb3705",
   "metadata": {},
   "outputs": [
    {
     "data": {
      "image/png": "[encoded data removed]",
      "text/plain": [
       "<Figure size 1080x720 with 10 Axes>"
      ]
     },
     "metadata": {
      "needs_background": "light"
     },
     "output_type": "display_data"
    }
   ],
   "source": [
    "plt.figure(figsize = (15,10))\n",
    "for p,q in enumerate(col1,start =1):\n",
    "    plt.subplot(5,5,p)\n",
    "    sns.boxplot(x = df[q])\n",
    "    "
   ]
  },
  {
   "cell_type": "code",
   "execution_count": 20,
   "id": "d7d13866",
   "metadata": {},
   "outputs": [],
   "source": [
    "#so here we can see that the outliers are present so here we wont be removing the outliers "
   ]
  },
  {
   "cell_type": "code",
   "execution_count": 21,
   "id": "f22e90f3",
   "metadata": {},
   "outputs": [
    {
     "name": "stdout",
     "output_type": "stream",
     "text": [
      "age                15.000\n",
      "duration          217.000\n",
      "campaign            2.000\n",
      "pdays               0.000\n",
      "previous            0.000\n",
      "emp.var.rate        3.200\n",
      "cons.price.idx      0.919\n",
      "cons.conf.idx       6.300\n",
      "euribor3m           3.617\n",
      "nr.employed       129.000\n",
      "dtype: float64\n"
     ]
    }
   ],
   "source": [
    "q1 = df.quantile(0.25)\n",
    "q3 = df.quantile(0.75)\n",
    "iqr = q3-q1\n",
    "print(iqr)"
   ]
  },
  {
   "cell_type": "code",
   "execution_count": 22,
   "id": "8b086f4d",
   "metadata": {},
   "outputs": [
    {
     "name": "stderr",
     "output_type": "stream",
     "text": [
      "C:\\Users\\HP\\AppData\\Local\\Temp\\ipykernel_23660\\1008107108.py:1: FutureWarning: Automatic reindexing on DataFrame vs Series comparisons is deprecated and will raise ValueError in a future version. Do `left, right = left.align(right, axis=1, copy=False)` before e.g. `left == right`\n",
      "  df = df[~((df<(q1-1.5*iqr))|(df>(q3+1.5*iqr))).any(axis = 1)]\n"
     ]
    }
   ],
   "source": [
    "df = df[~((df<(q1-1.5*iqr))|(df>(q3+1.5*iqr))).any(axis = 1)]"
   ]
  },
  {
   "cell_type": "code",
   "execution_count": 23,
   "id": "93cd9a62",
   "metadata": {},
   "outputs": [
    {
     "data": {
      "image/png": "[encoded data removed]",
      "text/plain": [
       "<Figure size 1080x720 with 10 Axes>"
      ]
     },
     "metadata": {
      "needs_background": "light"
     },
     "output_type": "display_data"
    }
   ],
   "source": [
    "plt.figure(figsize = (15,10))\n",
    "for p,q in enumerate(col1,start =1):\n",
    "    plt.subplot(5,5,p)\n",
    "    sns.boxplot(x = df[q])\n",
    "    "
   ]
  },
  {
   "cell_type": "code",
   "execution_count": 24,
   "id": "adebc294",
   "metadata": {},
   "outputs": [
    {
     "name": "stderr",
     "output_type": "stream",
     "text": [
      "C:\\Users\\HP\\anaconda3\\lib\\site-packages\\seaborn\\distributions.py:2619: FutureWarning: `distplot` is a deprecated function and will be removed in a future version. Please adapt your code to use either `displot` (a figure-level function with similar flexibility) or `histplot` (an axes-level function for histograms).\n",
      "  warnings.warn(msg, FutureWarning)\n"
     ]
    },
    {
     "data": {
      "text/plain": [
       "<AxesSubplot:ylabel='Density'>"
      ]
     },
     "execution_count": 24,
     "metadata": {},
     "output_type": "execute_result"
    },
    {
     "data": {
      "image/png": "[encoded data removed]",
      "text/plain": [
       "<Figure size 432x288 with 1 Axes>"
      ]
     },
     "metadata": {
      "needs_background": "light"
     },
     "output_type": "display_data"
    }
   ],
   "source": [
    "sns.distplot(x =df[\"age\"])"
   ]
  },
  {
   "cell_type": "code",
   "execution_count": 25,
   "id": "8faba965",
   "metadata": {},
   "outputs": [],
   "source": [
    "#Now we can see that we have removed most of the outliers"
   ]
  },
  {
   "cell_type": "code",
   "execution_count": 26,
   "id": "7489c3ce",
   "metadata": {},
   "outputs": [],
   "source": [
    "#lets now bin our age column"
   ]
  },
  {
   "cell_type": "code",
   "execution_count": 27,
   "id": "6b4d57bb",
   "metadata": {},
   "outputs": [
    {
     "data": {
      "text/plain": [
       "count    30360.000000\n",
       "mean        39.671080\n",
       "std          9.480333\n",
       "min         18.000000\n",
       "25%         32.000000\n",
       "50%         38.000000\n",
       "75%         47.000000\n",
       "max         69.000000\n",
       "Name: age, dtype: float64"
      ]
     },
     "execution_count": 27,
     "metadata": {},
     "output_type": "execute_result"
    }
   ],
   "source": [
    "df[\"age\"].describe()"
   ]
  },
  {
   "cell_type": "code",
   "execution_count": 28,
   "id": "29b58da5",
   "metadata": {},
   "outputs": [
    {
     "data": {
      "text/plain": [
       "dtype('float64')"
      ]
     },
     "execution_count": 28,
     "metadata": {},
     "output_type": "execute_result"
    }
   ],
   "source": [
    "df[\"age\"].dtype"
   ]
  },
  {
   "cell_type": "code",
   "execution_count": 29,
   "id": "01e9d11a",
   "metadata": {},
   "outputs": [],
   "source": [
    "\n",
    "bins = [0,10,20,30,40,50,60,70]\n",
    "df[\"age\"] = pd.cut(df[\"age\"],bins)\n",
    "df[\"age\"] = df[\"age\"].astype(str)"
   ]
  },
  {
   "cell_type": "code",
   "execution_count": 30,
   "id": "5b219ab3",
   "metadata": {},
   "outputs": [
    {
     "data": {
      "text/plain": [
       "(30, 40]    12284\n",
       "(40, 50]     7855\n",
       "(20, 30]     5196\n",
       "(50, 60]     4745\n",
       "(60, 70]      204\n",
       "(10, 20]       76\n",
       "Name: age, dtype: int64"
      ]
     },
     "execution_count": 30,
     "metadata": {},
     "output_type": "execute_result"
    }
   ],
   "source": [
    "df[\"age\"].value_counts()"
   ]
  },
  {
   "cell_type": "code",
   "execution_count": 31,
   "id": "54bb1c0b",
   "metadata": {},
   "outputs": [
    {
     "data": {
      "text/plain": [
       "dtype('O')"
      ]
     },
     "execution_count": 31,
     "metadata": {},
     "output_type": "execute_result"
    }
   ],
   "source": [
    "df[\"age\"].dtype"
   ]
  },
  {
   "cell_type": "code",
   "execution_count": 32,
   "id": "7d26becf",
   "metadata": {
    "scrolled": true
   },
   "outputs": [
    {
     "name": "stdout",
     "output_type": "stream",
     "text": [
      "<class 'pandas.core.frame.DataFrame'>\n",
      "Int64Index: 30360 entries, 0 to 41186\n",
      "Data columns (total 21 columns):\n",
      " #   Column          Non-Null Count  Dtype  \n",
      "---  ------          --------------  -----  \n",
      " 0   age             30360 non-null  object \n",
      " 1   job             30360 non-null  object \n",
      " 2   marital         30360 non-null  object \n",
      " 3   education       30360 non-null  object \n",
      " 4   default         30360 non-null  object \n",
      " 5   housing         30360 non-null  object \n",
      " 6   loan            30360 non-null  object \n",
      " 7   contact         30360 non-null  object \n",
      " 8   month           30360 non-null  object \n",
      " 9   day_of_week     30360 non-null  object \n",
      " 10  duration        30360 non-null  float64\n",
      " 11  campaign        30360 non-null  float64\n",
      " 12  pdays           30360 non-null  float64\n",
      " 13  previous        30360 non-null  float64\n",
      " 14  poutcome        30360 non-null  object \n",
      " 15  emp.var.rate    30360 non-null  float64\n",
      " 16  cons.price.idx  30360 non-null  float64\n",
      " 17  cons.conf.idx   30360 non-null  float64\n",
      " 18  euribor3m       30360 non-null  float64\n",
      " 19  nr.employed     30360 non-null  float64\n",
      " 20  y               30360 non-null  object \n",
      "dtypes: float64(9), object(12)\n",
      "memory usage: 5.1+ MB\n"
     ]
    }
   ],
   "source": [
    "df.info()"
   ]
  },
  {
   "cell_type": "code",
   "execution_count": 33,
   "id": "cacfd750",
   "metadata": {},
   "outputs": [],
   "source": [
    "# lets now visualize our dataset"
   ]
  },
  {
   "cell_type": "code",
   "execution_count": 34,
   "id": "e9e4c82e",
   "metadata": {
    "scrolled": true
   },
   "outputs": [
    {
     "data": {
      "image/png": "[encoded data removed]",
      "text/plain": [
       "<Figure size 432x288 with 1 Axes>"
      ]
     },
     "metadata": {
      "needs_background": "light"
     },
     "output_type": "display_data"
    }
   ],
   "source": [
    "sns.countplot(x = \"age\",hue = \"y\",data = df)\n",
    "plt.show()"
   ]
  },
  {
   "cell_type": "code",
   "execution_count": 35,
   "id": "d093a1b7",
   "metadata": {},
   "outputs": [],
   "source": [
    "# here we can see that people within a age group of 30-40 are having the insurance policy compared to all other age groups\n",
    "# we can also see that the people within an age group of 10,20 are having the least insurance cover which is obvious as \n",
    "# as childrens wont be requiring any insurance plan"
   ]
  },
  {
   "cell_type": "code",
   "execution_count": 36,
   "id": "2e1795c7",
   "metadata": {},
   "outputs": [
    {
     "data": {
      "text/html": [
       "<div>\n",
       "<style scoped>\n",
       "    .dataframe tbody tr th:only-of-type {\n",
       "        vertical-align: middle;\n",
       "    }\n",
       "\n",
       "    .dataframe tbody tr th {\n",
       "        vertical-align: top;\n",
       "    }\n",
       "\n",
       "    .dataframe thead th {\n",
       "        text-align: right;\n",
       "    }\n",
       "</style>\n",
       "<table border=\"1\" class=\"dataframe\">\n",
       "  <thead>\n",
       "    <tr style=\"text-align: right;\">\n",
       "      <th></th>\n",
       "      <th>age</th>\n",
       "      <th>job</th>\n",
       "      <th>marital</th>\n",
       "      <th>education</th>\n",
       "      <th>default</th>\n",
       "      <th>housing</th>\n",
       "      <th>loan</th>\n",
       "      <th>contact</th>\n",
       "      <th>month</th>\n",
       "      <th>day_of_week</th>\n",
       "      <th>...</th>\n",
       "      <th>campaign</th>\n",
       "      <th>pdays</th>\n",
       "      <th>previous</th>\n",
       "      <th>poutcome</th>\n",
       "      <th>emp.var.rate</th>\n",
       "      <th>cons.price.idx</th>\n",
       "      <th>cons.conf.idx</th>\n",
       "      <th>euribor3m</th>\n",
       "      <th>nr.employed</th>\n",
       "      <th>y</th>\n",
       "    </tr>\n",
       "  </thead>\n",
       "  <tbody>\n",
       "    <tr>\n",
       "      <th>0</th>\n",
       "      <td>(50, 60]</td>\n",
       "      <td>housemaid</td>\n",
       "      <td>married</td>\n",
       "      <td>basic.4y</td>\n",
       "      <td>no</td>\n",
       "      <td>no</td>\n",
       "      <td>no</td>\n",
       "      <td>telephone</td>\n",
       "      <td>may</td>\n",
       "      <td>mon</td>\n",
       "      <td>...</td>\n",
       "      <td>1.0</td>\n",
       "      <td>999.0</td>\n",
       "      <td>0.0</td>\n",
       "      <td>nonexistent</td>\n",
       "      <td>1.1</td>\n",
       "      <td>93.994</td>\n",
       "      <td>-36.4</td>\n",
       "      <td>4.857</td>\n",
       "      <td>5191.0</td>\n",
       "      <td>0</td>\n",
       "    </tr>\n",
       "    <tr>\n",
       "      <th>1</th>\n",
       "      <td>(50, 60]</td>\n",
       "      <td>services</td>\n",
       "      <td>married</td>\n",
       "      <td>high.school</td>\n",
       "      <td>unknown</td>\n",
       "      <td>no</td>\n",
       "      <td>no</td>\n",
       "      <td>telephone</td>\n",
       "      <td>may</td>\n",
       "      <td>mon</td>\n",
       "      <td>...</td>\n",
       "      <td>1.0</td>\n",
       "      <td>999.0</td>\n",
       "      <td>0.0</td>\n",
       "      <td>nonexistent</td>\n",
       "      <td>1.1</td>\n",
       "      <td>93.994</td>\n",
       "      <td>-36.4</td>\n",
       "      <td>4.857</td>\n",
       "      <td>5191.0</td>\n",
       "      <td>0</td>\n",
       "    </tr>\n",
       "    <tr>\n",
       "      <th>2</th>\n",
       "      <td>(30, 40]</td>\n",
       "      <td>services</td>\n",
       "      <td>married</td>\n",
       "      <td>high.school</td>\n",
       "      <td>no</td>\n",
       "      <td>yes</td>\n",
       "      <td>no</td>\n",
       "      <td>telephone</td>\n",
       "      <td>may</td>\n",
       "      <td>mon</td>\n",
       "      <td>...</td>\n",
       "      <td>1.0</td>\n",
       "      <td>999.0</td>\n",
       "      <td>0.0</td>\n",
       "      <td>nonexistent</td>\n",
       "      <td>1.1</td>\n",
       "      <td>93.994</td>\n",
       "      <td>-36.4</td>\n",
       "      <td>4.857</td>\n",
       "      <td>5191.0</td>\n",
       "      <td>0</td>\n",
       "    </tr>\n",
       "  </tbody>\n",
       "</table>\n",
       "<p>3 rows × 21 columns</p>\n",
       "</div>"
      ],
      "text/plain": [
       "        age        job  marital    education  default housing loan    contact  \\\n",
       "0  (50, 60]  housemaid  married     basic.4y       no      no   no  telephone   \n",
       "1  (50, 60]   services  married  high.school  unknown      no   no  telephone   \n",
       "2  (30, 40]   services  married  high.school       no     yes   no  telephone   \n",
       "\n",
       "  month day_of_week  ...  campaign  pdays  previous     poutcome emp.var.rate  \\\n",
       "0   may         mon  ...       1.0  999.0       0.0  nonexistent          1.1   \n",
       "1   may         mon  ...       1.0  999.0       0.0  nonexistent          1.1   \n",
       "2   may         mon  ...       1.0  999.0       0.0  nonexistent          1.1   \n",
       "\n",
       "   cons.price.idx  cons.conf.idx  euribor3m  nr.employed  y  \n",
       "0          93.994          -36.4      4.857       5191.0  0  \n",
       "1          93.994          -36.4      4.857       5191.0  0  \n",
       "2          93.994          -36.4      4.857       5191.0  0  \n",
       "\n",
       "[3 rows x 21 columns]"
      ]
     },
     "execution_count": 36,
     "metadata": {},
     "output_type": "execute_result"
    }
   ],
   "source": [
    "df.head(3)"
   ]
  },
  {
   "cell_type": "code",
   "execution_count": 37,
   "id": "5a2bfd8a",
   "metadata": {},
   "outputs": [
    {
     "data": {
      "image/png": "[encoded data removed]",
      "text/plain": [
       "<Figure size 1080x720 with 1 Axes>"
      ]
     },
     "metadata": {
      "needs_background": "light"
     },
     "output_type": "display_data"
    }
   ],
   "source": [
    "plt.figure(figsize = (15,10))\n",
    "sns.countplot(x = \"age\",hue = \"job\",data = df)\n",
    "plt.show()"
   ]
  },
  {
   "cell_type": "code",
   "execution_count": 38,
   "id": "ee33b13b",
   "metadata": {},
   "outputs": [],
   "source": [
    "#here we can see that people with an age group of 30-40 are having the highiest job count where we have\n",
    "#admin, blue-collar and technicians  people are more and as the age rises starting from 50 we can see the rise of \n",
    "#retired people "
   ]
  },
  {
   "cell_type": "code",
   "execution_count": 39,
   "id": "2d5b242d",
   "metadata": {},
   "outputs": [
    {
     "data": {
      "image/png": "[encoded data removed]",
      "text/plain": [
       "<Figure size 1080x720 with 1 Axes>"
      ]
     },
     "metadata": {
      "needs_background": "light"
     },
     "output_type": "display_data"
    }
   ],
   "source": [
    "plt.figure(figsize = (15,10))\n",
    "sns.countplot(x = \"age\",hue = \"loan\",data = df)\n",
    "plt.show()"
   ]
  },
  {
   "cell_type": "code",
   "execution_count": 40,
   "id": "ea28c3bf",
   "metadata": {},
   "outputs": [],
   "source": [
    "#when coming to check on the loan data, the age group  betwenn 30- 40 are having the highiest loan rate and the least \n",
    "# are for the children and adults the is age group between 10-20, 60-70"
   ]
  },
  {
   "cell_type": "code",
   "execution_count": 41,
   "id": "a4f18cb7",
   "metadata": {},
   "outputs": [
    {
     "data": {
      "image/png": "[encoded data removed]",
      "text/plain": [
       "<Figure size 1080x720 with 1 Axes>"
      ]
     },
     "metadata": {
      "needs_background": "light"
     },
     "output_type": "display_data"
    }
   ],
   "source": [
    "plt.figure(figsize = (15,10))\n",
    "sns.countplot(x = \"job\",hue = \"loan\",data = df)\n",
    "plt.show()"
   ]
  },
  {
   "cell_type": "code",
   "execution_count": 42,
   "id": "d137673b",
   "metadata": {},
   "outputs": [],
   "source": [
    "# we can see that people working as admin and blue-collar happend to be taking more amount of loans and the least \n",
    "# amount of loan has been holded by student, retired and housemaid"
   ]
  },
  {
   "cell_type": "code",
   "execution_count": 43,
   "id": "69b2f404",
   "metadata": {},
   "outputs": [],
   "source": [
    "#lets divide our independent and dependent variables"
   ]
  },
  {
   "cell_type": "code",
   "execution_count": 44,
   "id": "3cc5c8d3",
   "metadata": {},
   "outputs": [],
   "source": [
    "col = list(df.columns)"
   ]
  },
  {
   "cell_type": "code",
   "execution_count": 45,
   "id": "323fe526",
   "metadata": {},
   "outputs": [],
   "source": [
    "col.remove(\"y\")"
   ]
  },
  {
   "cell_type": "code",
   "execution_count": 46,
   "id": "eefdd2a4",
   "metadata": {},
   "outputs": [],
   "source": [
    "x = df[col]\n",
    "y = df[\"y\"]"
   ]
  },
  {
   "cell_type": "code",
   "execution_count": 47,
   "id": "142b7988",
   "metadata": {},
   "outputs": [
    {
     "data": {
      "text/html": [
       "<div>\n",
       "<style scoped>\n",
       "    .dataframe tbody tr th:only-of-type {\n",
       "        vertical-align: middle;\n",
       "    }\n",
       "\n",
       "    .dataframe tbody tr th {\n",
       "        vertical-align: top;\n",
       "    }\n",
       "\n",
       "    .dataframe thead th {\n",
       "        text-align: right;\n",
       "    }\n",
       "</style>\n",
       "<table border=\"1\" class=\"dataframe\">\n",
       "  <thead>\n",
       "    <tr style=\"text-align: right;\">\n",
       "      <th></th>\n",
       "      <th>age</th>\n",
       "      <th>job</th>\n",
       "      <th>marital</th>\n",
       "      <th>education</th>\n",
       "      <th>default</th>\n",
       "      <th>housing</th>\n",
       "      <th>loan</th>\n",
       "      <th>contact</th>\n",
       "      <th>month</th>\n",
       "      <th>day_of_week</th>\n",
       "      <th>duration</th>\n",
       "      <th>campaign</th>\n",
       "      <th>pdays</th>\n",
       "      <th>previous</th>\n",
       "      <th>poutcome</th>\n",
       "      <th>emp.var.rate</th>\n",
       "      <th>cons.price.idx</th>\n",
       "      <th>cons.conf.idx</th>\n",
       "      <th>euribor3m</th>\n",
       "      <th>nr.employed</th>\n",
       "    </tr>\n",
       "  </thead>\n",
       "  <tbody>\n",
       "    <tr>\n",
       "      <th>0</th>\n",
       "      <td>(50, 60]</td>\n",
       "      <td>housemaid</td>\n",
       "      <td>married</td>\n",
       "      <td>basic.4y</td>\n",
       "      <td>no</td>\n",
       "      <td>no</td>\n",
       "      <td>no</td>\n",
       "      <td>telephone</td>\n",
       "      <td>may</td>\n",
       "      <td>mon</td>\n",
       "      <td>261.0</td>\n",
       "      <td>1.0</td>\n",
       "      <td>999.0</td>\n",
       "      <td>0.0</td>\n",
       "      <td>nonexistent</td>\n",
       "      <td>1.1</td>\n",
       "      <td>93.994</td>\n",
       "      <td>-36.4</td>\n",
       "      <td>4.857</td>\n",
       "      <td>5191.0</td>\n",
       "    </tr>\n",
       "    <tr>\n",
       "      <th>1</th>\n",
       "      <td>(50, 60]</td>\n",
       "      <td>services</td>\n",
       "      <td>married</td>\n",
       "      <td>high.school</td>\n",
       "      <td>unknown</td>\n",
       "      <td>no</td>\n",
       "      <td>no</td>\n",
       "      <td>telephone</td>\n",
       "      <td>may</td>\n",
       "      <td>mon</td>\n",
       "      <td>149.0</td>\n",
       "      <td>1.0</td>\n",
       "      <td>999.0</td>\n",
       "      <td>0.0</td>\n",
       "      <td>nonexistent</td>\n",
       "      <td>1.1</td>\n",
       "      <td>93.994</td>\n",
       "      <td>-36.4</td>\n",
       "      <td>4.857</td>\n",
       "      <td>5191.0</td>\n",
       "    </tr>\n",
       "    <tr>\n",
       "      <th>2</th>\n",
       "      <td>(30, 40]</td>\n",
       "      <td>services</td>\n",
       "      <td>married</td>\n",
       "      <td>high.school</td>\n",
       "      <td>no</td>\n",
       "      <td>yes</td>\n",
       "      <td>no</td>\n",
       "      <td>telephone</td>\n",
       "      <td>may</td>\n",
       "      <td>mon</td>\n",
       "      <td>226.0</td>\n",
       "      <td>1.0</td>\n",
       "      <td>999.0</td>\n",
       "      <td>0.0</td>\n",
       "      <td>nonexistent</td>\n",
       "      <td>1.1</td>\n",
       "      <td>93.994</td>\n",
       "      <td>-36.4</td>\n",
       "      <td>4.857</td>\n",
       "      <td>5191.0</td>\n",
       "    </tr>\n",
       "    <tr>\n",
       "      <th>3</th>\n",
       "      <td>(30, 40]</td>\n",
       "      <td>admin.</td>\n",
       "      <td>married</td>\n",
       "      <td>basic.6y</td>\n",
       "      <td>no</td>\n",
       "      <td>no</td>\n",
       "      <td>no</td>\n",
       "      <td>telephone</td>\n",
       "      <td>may</td>\n",
       "      <td>mon</td>\n",
       "      <td>151.0</td>\n",
       "      <td>1.0</td>\n",
       "      <td>999.0</td>\n",
       "      <td>0.0</td>\n",
       "      <td>nonexistent</td>\n",
       "      <td>1.1</td>\n",
       "      <td>93.994</td>\n",
       "      <td>-36.4</td>\n",
       "      <td>4.857</td>\n",
       "      <td>5191.0</td>\n",
       "    </tr>\n",
       "    <tr>\n",
       "      <th>4</th>\n",
       "      <td>(50, 60]</td>\n",
       "      <td>services</td>\n",
       "      <td>married</td>\n",
       "      <td>high.school</td>\n",
       "      <td>no</td>\n",
       "      <td>no</td>\n",
       "      <td>yes</td>\n",
       "      <td>telephone</td>\n",
       "      <td>may</td>\n",
       "      <td>mon</td>\n",
       "      <td>307.0</td>\n",
       "      <td>1.0</td>\n",
       "      <td>999.0</td>\n",
       "      <td>0.0</td>\n",
       "      <td>nonexistent</td>\n",
       "      <td>1.1</td>\n",
       "      <td>93.994</td>\n",
       "      <td>-36.4</td>\n",
       "      <td>4.857</td>\n",
       "      <td>5191.0</td>\n",
       "    </tr>\n",
       "  </tbody>\n",
       "</table>\n",
       "</div>"
      ],
      "text/plain": [
       "        age        job  marital    education  default housing loan    contact  \\\n",
       "0  (50, 60]  housemaid  married     basic.4y       no      no   no  telephone   \n",
       "1  (50, 60]   services  married  high.school  unknown      no   no  telephone   \n",
       "2  (30, 40]   services  married  high.school       no     yes   no  telephone   \n",
       "3  (30, 40]     admin.  married     basic.6y       no      no   no  telephone   \n",
       "4  (50, 60]   services  married  high.school       no      no  yes  telephone   \n",
       "\n",
       "  month day_of_week  duration  campaign  pdays  previous     poutcome  \\\n",
       "0   may         mon     261.0       1.0  999.0       0.0  nonexistent   \n",
       "1   may         mon     149.0       1.0  999.0       0.0  nonexistent   \n",
       "2   may         mon     226.0       1.0  999.0       0.0  nonexistent   \n",
       "3   may         mon     151.0       1.0  999.0       0.0  nonexistent   \n",
       "4   may         mon     307.0       1.0  999.0       0.0  nonexistent   \n",
       "\n",
       "   emp.var.rate  cons.price.idx  cons.conf.idx  euribor3m  nr.employed  \n",
       "0           1.1          93.994          -36.4      4.857       5191.0  \n",
       "1           1.1          93.994          -36.4      4.857       5191.0  \n",
       "2           1.1          93.994          -36.4      4.857       5191.0  \n",
       "3           1.1          93.994          -36.4      4.857       5191.0  \n",
       "4           1.1          93.994          -36.4      4.857       5191.0  "
      ]
     },
     "execution_count": 47,
     "metadata": {},
     "output_type": "execute_result"
    }
   ],
   "source": [
    "x.head()#idependent variables"
   ]
  },
  {
   "cell_type": "code",
   "execution_count": 48,
   "id": "ae804301",
   "metadata": {},
   "outputs": [
    {
     "data": {
      "text/plain": [
       "0    0\n",
       "1    0\n",
       "2    0\n",
       "3    0\n",
       "4    0\n",
       "Name: y, dtype: object"
      ]
     },
     "execution_count": 48,
     "metadata": {},
     "output_type": "execute_result"
    }
   ],
   "source": [
    "y.head()#dependent variable"
   ]
  },
  {
   "cell_type": "code",
   "execution_count": 49,
   "id": "a6c920e7",
   "metadata": {},
   "outputs": [
    {
     "name": "stderr",
     "output_type": "stream",
     "text": [
      "C:\\Users\\HP\\AppData\\Local\\Temp\\ipykernel_23660\\2245415948.py:7: SettingWithCopyWarning: \n",
      "A value is trying to be set on a copy of a slice from a DataFrame.\n",
      "Try using .loc[row_indexer,col_indexer] = value instead\n",
      "\n",
      "See the caveats in the documentation: https://pandas.pydata.org/pandas-docs/stable/user_guide/indexing.html#returning-a-view-versus-a-copy\n",
      "  x[i] = encoder.fit_transform(x[i])\n"
     ]
    },
    {
     "data": {
      "text/html": [
       "<div>\n",
       "<style scoped>\n",
       "    .dataframe tbody tr th:only-of-type {\n",
       "        vertical-align: middle;\n",
       "    }\n",
       "\n",
       "    .dataframe tbody tr th {\n",
       "        vertical-align: top;\n",
       "    }\n",
       "\n",
       "    .dataframe thead th {\n",
       "        text-align: right;\n",
       "    }\n",
       "</style>\n",
       "<table border=\"1\" class=\"dataframe\">\n",
       "  <thead>\n",
       "    <tr style=\"text-align: right;\">\n",
       "      <th></th>\n",
       "      <th>age</th>\n",
       "      <th>job</th>\n",
       "      <th>marital</th>\n",
       "      <th>education</th>\n",
       "      <th>default</th>\n",
       "      <th>housing</th>\n",
       "      <th>loan</th>\n",
       "      <th>contact</th>\n",
       "      <th>month</th>\n",
       "      <th>day_of_week</th>\n",
       "      <th>duration</th>\n",
       "      <th>campaign</th>\n",
       "      <th>pdays</th>\n",
       "      <th>previous</th>\n",
       "      <th>poutcome</th>\n",
       "      <th>emp.var.rate</th>\n",
       "      <th>cons.price.idx</th>\n",
       "      <th>cons.conf.idx</th>\n",
       "      <th>euribor3m</th>\n",
       "      <th>nr.employed</th>\n",
       "    </tr>\n",
       "  </thead>\n",
       "  <tbody>\n",
       "    <tr>\n",
       "      <th>0</th>\n",
       "      <td>4</td>\n",
       "      <td>3</td>\n",
       "      <td>1</td>\n",
       "      <td>0</td>\n",
       "      <td>0</td>\n",
       "      <td>0</td>\n",
       "      <td>0</td>\n",
       "      <td>1</td>\n",
       "      <td>6</td>\n",
       "      <td>1</td>\n",
       "      <td>261.0</td>\n",
       "      <td>1.0</td>\n",
       "      <td>999.0</td>\n",
       "      <td>0.0</td>\n",
       "      <td>0</td>\n",
       "      <td>1.1</td>\n",
       "      <td>93.994</td>\n",
       "      <td>-36.4</td>\n",
       "      <td>4.857</td>\n",
       "      <td>5191.0</td>\n",
       "    </tr>\n",
       "    <tr>\n",
       "      <th>1</th>\n",
       "      <td>4</td>\n",
       "      <td>7</td>\n",
       "      <td>1</td>\n",
       "      <td>3</td>\n",
       "      <td>1</td>\n",
       "      <td>0</td>\n",
       "      <td>0</td>\n",
       "      <td>1</td>\n",
       "      <td>6</td>\n",
       "      <td>1</td>\n",
       "      <td>149.0</td>\n",
       "      <td>1.0</td>\n",
       "      <td>999.0</td>\n",
       "      <td>0.0</td>\n",
       "      <td>0</td>\n",
       "      <td>1.1</td>\n",
       "      <td>93.994</td>\n",
       "      <td>-36.4</td>\n",
       "      <td>4.857</td>\n",
       "      <td>5191.0</td>\n",
       "    </tr>\n",
       "    <tr>\n",
       "      <th>2</th>\n",
       "      <td>2</td>\n",
       "      <td>7</td>\n",
       "      <td>1</td>\n",
       "      <td>3</td>\n",
       "      <td>0</td>\n",
       "      <td>2</td>\n",
       "      <td>0</td>\n",
       "      <td>1</td>\n",
       "      <td>6</td>\n",
       "      <td>1</td>\n",
       "      <td>226.0</td>\n",
       "      <td>1.0</td>\n",
       "      <td>999.0</td>\n",
       "      <td>0.0</td>\n",
       "      <td>0</td>\n",
       "      <td>1.1</td>\n",
       "      <td>93.994</td>\n",
       "      <td>-36.4</td>\n",
       "      <td>4.857</td>\n",
       "      <td>5191.0</td>\n",
       "    </tr>\n",
       "    <tr>\n",
       "      <th>3</th>\n",
       "      <td>2</td>\n",
       "      <td>0</td>\n",
       "      <td>1</td>\n",
       "      <td>1</td>\n",
       "      <td>0</td>\n",
       "      <td>0</td>\n",
       "      <td>0</td>\n",
       "      <td>1</td>\n",
       "      <td>6</td>\n",
       "      <td>1</td>\n",
       "      <td>151.0</td>\n",
       "      <td>1.0</td>\n",
       "      <td>999.0</td>\n",
       "      <td>0.0</td>\n",
       "      <td>0</td>\n",
       "      <td>1.1</td>\n",
       "      <td>93.994</td>\n",
       "      <td>-36.4</td>\n",
       "      <td>4.857</td>\n",
       "      <td>5191.0</td>\n",
       "    </tr>\n",
       "    <tr>\n",
       "      <th>4</th>\n",
       "      <td>4</td>\n",
       "      <td>7</td>\n",
       "      <td>1</td>\n",
       "      <td>3</td>\n",
       "      <td>0</td>\n",
       "      <td>0</td>\n",
       "      <td>2</td>\n",
       "      <td>1</td>\n",
       "      <td>6</td>\n",
       "      <td>1</td>\n",
       "      <td>307.0</td>\n",
       "      <td>1.0</td>\n",
       "      <td>999.0</td>\n",
       "      <td>0.0</td>\n",
       "      <td>0</td>\n",
       "      <td>1.1</td>\n",
       "      <td>93.994</td>\n",
       "      <td>-36.4</td>\n",
       "      <td>4.857</td>\n",
       "      <td>5191.0</td>\n",
       "    </tr>\n",
       "  </tbody>\n",
       "</table>\n",
       "</div>"
      ],
      "text/plain": [
       "   age  job  marital  education  default  housing  loan  contact  month  \\\n",
       "0    4    3        1          0        0        0     0        1      6   \n",
       "1    4    7        1          3        1        0     0        1      6   \n",
       "2    2    7        1          3        0        2     0        1      6   \n",
       "3    2    0        1          1        0        0     0        1      6   \n",
       "4    4    7        1          3        0        0     2        1      6   \n",
       "\n",
       "   day_of_week  duration  campaign  pdays  previous  poutcome  emp.var.rate  \\\n",
       "0            1     261.0       1.0  999.0       0.0         0           1.1   \n",
       "1            1     149.0       1.0  999.0       0.0         0           1.1   \n",
       "2            1     226.0       1.0  999.0       0.0         0           1.1   \n",
       "3            1     151.0       1.0  999.0       0.0         0           1.1   \n",
       "4            1     307.0       1.0  999.0       0.0         0           1.1   \n",
       "\n",
       "   cons.price.idx  cons.conf.idx  euribor3m  nr.employed  \n",
       "0          93.994          -36.4      4.857       5191.0  \n",
       "1          93.994          -36.4      4.857       5191.0  \n",
       "2          93.994          -36.4      4.857       5191.0  \n",
       "3          93.994          -36.4      4.857       5191.0  \n",
       "4          93.994          -36.4      4.857       5191.0  "
      ]
     },
     "execution_count": 49,
     "metadata": {},
     "output_type": "execute_result"
    }
   ],
   "source": [
    "#Now lets convert our object dtype to int or float dtypes using label encoding\n",
    "col2 = list(x.columns)\n",
    "from sklearn.preprocessing import LabelEncoder\n",
    "encoder = LabelEncoder()\n",
    "for i in (col2):\n",
    "    if x[i].dtype == \"object\":\n",
    "        x[i] = encoder.fit_transform(x[i])\n",
    "\n",
    "x.head()"
   ]
  },
  {
   "cell_type": "code",
   "execution_count": 50,
   "id": "e0b53295",
   "metadata": {},
   "outputs": [],
   "source": [
    "#Now lets check for multicollinearity"
   ]
  },
  {
   "cell_type": "code",
   "execution_count": 51,
   "id": "7c30b20b",
   "metadata": {},
   "outputs": [],
   "source": [
    "from statsmodels.stats.outliers_influence import variance_inflation_factor"
   ]
  },
  {
   "cell_type": "code",
   "execution_count": 58,
   "id": "98ade0b6",
   "metadata": {},
   "outputs": [
    {
     "data": {
      "text/plain": [
       "Index(['age', 'job', 'marital', 'education', 'default', 'housing', 'loan',\n",
       "       'contact', 'month', 'day_of_week', 'duration', 'campaign', 'pdays',\n",
       "       'previous', 'poutcome', 'emp.var.rate', 'cons.price.idx',\n",
       "       'cons.conf.idx', 'euribor3m', 'nr.employed'],\n",
       "      dtype='object')"
      ]
     },
     "execution_count": 58,
     "metadata": {},
     "output_type": "execute_result"
    }
   ],
   "source": [
    "col = list(x.columns)"
   ]
  },
  {
   "cell_type": "code",
   "execution_count": 62,
   "id": "c9146d1f",
   "metadata": {},
   "outputs": [],
   "source": [
    "col1 = []\n",
    "for i in (x.columns):\n",
    "    if x[i].dtype != \"object\":\n",
    "        col1.append(i)"
   ]
  },
  {
   "cell_type": "code",
   "execution_count": 67,
   "id": "0271095f",
   "metadata": {},
   "outputs": [],
   "source": [
    "x1 = x[col1]"
   ]
  },
  {
   "cell_type": "code",
   "execution_count": 70,
   "id": "fb7a6105",
   "metadata": {},
   "outputs": [
    {
     "name": "stdout",
     "output_type": "stream",
     "text": [
      "           columns            vif\n",
      "0              age       1.211811\n",
      "1              job       1.025402\n",
      "2          marital       1.174619\n",
      "3        education       1.101884\n",
      "4          default       1.106538\n",
      "5          housing       1.013146\n",
      "6             loan       1.003024\n",
      "7          contact       2.718500\n",
      "8            month       2.062370\n",
      "9      day_of_week       1.011244\n",
      "10        duration       1.011874\n",
      "11        campaign       1.019619\n",
      "12           pdays  771327.984195\n",
      "13        previous            NaN\n",
      "14        poutcome            NaN\n",
      "15    emp.var.rate      42.005252\n",
      "16  cons.price.idx       8.723065\n",
      "17   cons.conf.idx       3.875911\n",
      "18       euribor3m      88.907608\n",
      "19     nr.employed      35.209191\n"
     ]
    },
    {
     "name": "stderr",
     "output_type": "stream",
     "text": [
      "C:\\Users\\HP\\anaconda3\\lib\\site-packages\\statsmodels\\regression\\linear_model.py:1736: RuntimeWarning: invalid value encountered in double_scalars\n",
      "  return 1 - self.ssr/self.centered_tss\n"
     ]
    }
   ],
   "source": [
    "VIF = pd.DataFrame()\n",
    "VIF[\"columns\"] = col1\n",
    "VIF[\"vif\"] = [variance_inflation_factor(x1.values,i) for i in range(len(x1.columns))]\n",
    "print(VIF)"
   ]
  },
  {
   "cell_type": "code",
   "execution_count": 72,
   "id": "0d843607",
   "metadata": {},
   "outputs": [],
   "source": [
    "x1 = x1.drop(columns = [\"pdays\"])\n",
    "col1.remove(\"pdays\")"
   ]
  },
  {
   "cell_type": "code",
   "execution_count": 73,
   "id": "05a2c7eb",
   "metadata": {},
   "outputs": [
    {
     "name": "stderr",
     "output_type": "stream",
     "text": [
      "C:\\Users\\HP\\anaconda3\\lib\\site-packages\\statsmodels\\regression\\linear_model.py:1738: RuntimeWarning: invalid value encountered in double_scalars\n",
      "  return 1 - self.ssr/self.uncentered_tss\n"
     ]
    },
    {
     "name": "stdout",
     "output_type": "stream",
     "text": [
      "           columns           vif\n",
      "0              age      8.628646\n",
      "1              job      2.095289\n",
      "2          marital      5.574523\n",
      "3        education      4.470735\n",
      "4          default      1.429454\n",
      "5          housing      2.192728\n",
      "6             loan      1.208270\n",
      "7          contact      3.588800\n",
      "8            month      7.827466\n",
      "9      day_of_week      3.107408\n",
      "10        duration      3.172295\n",
      "11        campaign      3.620896\n",
      "12        previous           NaN\n",
      "13        poutcome           NaN\n",
      "14    emp.var.rate     42.027003\n",
      "15  cons.price.idx  51276.289533\n",
      "16   cons.conf.idx    160.553685\n",
      "17       euribor3m    439.427755\n",
      "18     nr.employed  58411.101484\n"
     ]
    }
   ],
   "source": [
    "VIF = pd.DataFrame()\n",
    "VIF[\"columns\"] = col1\n",
    "VIF[\"vif\"] = [variance_inflation_factor(x1.values,i) for i in range(len(x1.columns))]\n",
    "print(VIF)"
   ]
  },
  {
   "cell_type": "code",
   "execution_count": 74,
   "id": "b21e8969",
   "metadata": {},
   "outputs": [],
   "source": [
    "x1 = x1.drop(columns = [\"nr.employed\"])\n",
    "col1.remove(\"nr.employed\")"
   ]
  },
  {
   "cell_type": "code",
   "execution_count": 75,
   "id": "5f3a4a9e",
   "metadata": {},
   "outputs": [
    {
     "name": "stdout",
     "output_type": "stream",
     "text": [
      "           columns         vif\n",
      "0              age    8.628407\n",
      "1              job    2.095249\n",
      "2          marital    5.573477\n",
      "3        education    4.470733\n",
      "4          default    1.428189\n",
      "5          housing    2.192109\n",
      "6             loan    1.208169\n",
      "7          contact    2.748480\n",
      "8            month    6.761410\n",
      "9      day_of_week    3.106809\n",
      "10        duration    3.162960\n",
      "11        campaign    3.609202\n",
      "12        previous         NaN\n",
      "13        poutcome         NaN\n",
      "14    emp.var.rate   28.441730\n",
      "15  cons.price.idx  418.366683\n",
      "16   cons.conf.idx  141.986996\n",
      "17       euribor3m  203.423006\n"
     ]
    },
    {
     "name": "stderr",
     "output_type": "stream",
     "text": [
      "C:\\Users\\HP\\anaconda3\\lib\\site-packages\\statsmodels\\regression\\linear_model.py:1738: RuntimeWarning: invalid value encountered in double_scalars\n",
      "  return 1 - self.ssr/self.uncentered_tss\n"
     ]
    }
   ],
   "source": [
    "VIF = pd.DataFrame()\n",
    "VIF[\"columns\"] = col1\n",
    "VIF[\"vif\"] = [variance_inflation_factor(x1.values,i) for i in range(len(x1.columns))]\n",
    "print(VIF)"
   ]
  },
  {
   "cell_type": "code",
   "execution_count": 76,
   "id": "ae2ed4b5",
   "metadata": {},
   "outputs": [],
   "source": [
    "x1 = x1.drop(columns = [\"cons.price.idx\"])\n",
    "col1.remove(\"cons.price.idx\")"
   ]
  },
  {
   "cell_type": "code",
   "execution_count": 77,
   "id": "cbbffe31",
   "metadata": {},
   "outputs": [
    {
     "name": "stdout",
     "output_type": "stream",
     "text": [
      "          columns        vif\n",
      "0             age   8.289911\n",
      "1             job   2.086696\n",
      "2         marital   5.406609\n",
      "3       education   4.388642\n",
      "4         default   1.426731\n",
      "5         housing   2.187292\n",
      "6            loan   1.207535\n",
      "7         contact   2.506796\n",
      "8           month   6.440734\n",
      "9     day_of_week   3.083069\n",
      "10       duration   3.123972\n",
      "11       campaign   3.573339\n",
      "12       previous        NaN\n",
      "13       poutcome        NaN\n",
      "14   emp.var.rate  14.824088\n",
      "15  cons.conf.idx  46.882610\n",
      "16      euribor3m  85.405963\n"
     ]
    },
    {
     "name": "stderr",
     "output_type": "stream",
     "text": [
      "C:\\Users\\HP\\anaconda3\\lib\\site-packages\\statsmodels\\regression\\linear_model.py:1738: RuntimeWarning: invalid value encountered in double_scalars\n",
      "  return 1 - self.ssr/self.uncentered_tss\n"
     ]
    }
   ],
   "source": [
    "VIF = pd.DataFrame()\n",
    "VIF[\"columns\"] = col1\n",
    "VIF[\"vif\"] = [variance_inflation_factor(x1.values,i) for i in range(len(x1.columns))]\n",
    "print(VIF)"
   ]
  },
  {
   "cell_type": "code",
   "execution_count": 78,
   "id": "d655f3f2",
   "metadata": {},
   "outputs": [],
   "source": [
    "x1 = x1.drop(columns = [\"euribor3m\"])\n",
    "col1.remove(\"euribor3m\")"
   ]
  },
  {
   "cell_type": "code",
   "execution_count": 79,
   "id": "ca20c74a",
   "metadata": {},
   "outputs": [
    {
     "name": "stdout",
     "output_type": "stream",
     "text": [
      "          columns        vif\n",
      "0             age   7.531109\n",
      "1             job   2.076948\n",
      "2         marital   5.233209\n",
      "3       education   4.183011\n",
      "4         default   1.426632\n",
      "5         housing   2.177200\n",
      "6            loan   1.207282\n",
      "7         contact   2.498633\n",
      "8           month   5.779963\n",
      "9     day_of_week   3.034296\n",
      "10       duration   3.099337\n",
      "11       campaign   3.566471\n",
      "12       previous        NaN\n",
      "13       poutcome        NaN\n",
      "14   emp.var.rate   1.409452\n",
      "15  cons.conf.idx  24.502071\n"
     ]
    },
    {
     "name": "stderr",
     "output_type": "stream",
     "text": [
      "C:\\Users\\HP\\anaconda3\\lib\\site-packages\\statsmodels\\regression\\linear_model.py:1738: RuntimeWarning: invalid value encountered in double_scalars\n",
      "  return 1 - self.ssr/self.uncentered_tss\n"
     ]
    }
   ],
   "source": [
    "VIF = pd.DataFrame()\n",
    "VIF[\"columns\"] = col1\n",
    "VIF[\"vif\"] = [variance_inflation_factor(x1.values,i) for i in range(len(x1.columns))]\n",
    "print(VIF)"
   ]
  },
  {
   "cell_type": "code",
   "execution_count": 80,
   "id": "d2b00700",
   "metadata": {},
   "outputs": [],
   "source": [
    "x1 = x1.drop(columns = [\"cons.conf.idx\"])\n",
    "col1.remove(\"cons.conf.idx\")"
   ]
  },
  {
   "cell_type": "code",
   "execution_count": 81,
   "id": "131cf374",
   "metadata": {},
   "outputs": [
    {
     "name": "stdout",
     "output_type": "stream",
     "text": [
      "         columns       vif\n",
      "0            age  5.492449\n",
      "1            job  2.053774\n",
      "2        marital  4.136480\n",
      "3      education  3.911413\n",
      "4        default  1.421999\n",
      "5        housing  2.113511\n",
      "6           loan  1.202492\n",
      "7        contact  2.483285\n",
      "8          month  5.128320\n",
      "9    day_of_week  2.898331\n",
      "10      duration  2.935638\n",
      "11      campaign  3.271834\n",
      "12      previous       NaN\n",
      "13      poutcome       NaN\n",
      "14  emp.var.rate  1.405505\n"
     ]
    },
    {
     "name": "stderr",
     "output_type": "stream",
     "text": [
      "C:\\Users\\HP\\anaconda3\\lib\\site-packages\\statsmodels\\regression\\linear_model.py:1738: RuntimeWarning: invalid value encountered in double_scalars\n",
      "  return 1 - self.ssr/self.uncentered_tss\n"
     ]
    }
   ],
   "source": [
    "VIF = pd.DataFrame()\n",
    "VIF[\"columns\"] = col1\n",
    "VIF[\"vif\"] = [variance_inflation_factor(x1.values,i) for i in range(len(x1.columns))]\n",
    "print(VIF)"
   ]
  },
  {
   "cell_type": "code",
   "execution_count": 82,
   "id": "37f1ee60",
   "metadata": {},
   "outputs": [],
   "source": [
    "#Now we have no multi colliniarity present in our dataset "
   ]
  },
  {
   "cell_type": "code",
   "execution_count": 86,
   "id": "e8be83dc",
   "metadata": {},
   "outputs": [
    {
     "data": {
      "text/html": [
       "<div>\n",
       "<style scoped>\n",
       "    .dataframe tbody tr th:only-of-type {\n",
       "        vertical-align: middle;\n",
       "    }\n",
       "\n",
       "    .dataframe tbody tr th {\n",
       "        vertical-align: top;\n",
       "    }\n",
       "\n",
       "    .dataframe thead th {\n",
       "        text-align: right;\n",
       "    }\n",
       "</style>\n",
       "<table border=\"1\" class=\"dataframe\">\n",
       "  <thead>\n",
       "    <tr style=\"text-align: right;\">\n",
       "      <th></th>\n",
       "      <th>age</th>\n",
       "      <th>job</th>\n",
       "      <th>marital</th>\n",
       "      <th>education</th>\n",
       "      <th>default</th>\n",
       "      <th>housing</th>\n",
       "      <th>loan</th>\n",
       "      <th>contact</th>\n",
       "      <th>month</th>\n",
       "      <th>day_of_week</th>\n",
       "      <th>duration</th>\n",
       "      <th>campaign</th>\n",
       "      <th>previous</th>\n",
       "      <th>poutcome</th>\n",
       "      <th>emp.var.rate</th>\n",
       "    </tr>\n",
       "  </thead>\n",
       "  <tbody>\n",
       "    <tr>\n",
       "      <th>0</th>\n",
       "      <td>4</td>\n",
       "      <td>3</td>\n",
       "      <td>1</td>\n",
       "      <td>0</td>\n",
       "      <td>0</td>\n",
       "      <td>0</td>\n",
       "      <td>0</td>\n",
       "      <td>1</td>\n",
       "      <td>6</td>\n",
       "      <td>1</td>\n",
       "      <td>261.0</td>\n",
       "      <td>1.0</td>\n",
       "      <td>0.0</td>\n",
       "      <td>0</td>\n",
       "      <td>1.1</td>\n",
       "    </tr>\n",
       "    <tr>\n",
       "      <th>1</th>\n",
       "      <td>4</td>\n",
       "      <td>7</td>\n",
       "      <td>1</td>\n",
       "      <td>3</td>\n",
       "      <td>1</td>\n",
       "      <td>0</td>\n",
       "      <td>0</td>\n",
       "      <td>1</td>\n",
       "      <td>6</td>\n",
       "      <td>1</td>\n",
       "      <td>149.0</td>\n",
       "      <td>1.0</td>\n",
       "      <td>0.0</td>\n",
       "      <td>0</td>\n",
       "      <td>1.1</td>\n",
       "    </tr>\n",
       "    <tr>\n",
       "      <th>2</th>\n",
       "      <td>2</td>\n",
       "      <td>7</td>\n",
       "      <td>1</td>\n",
       "      <td>3</td>\n",
       "      <td>0</td>\n",
       "      <td>2</td>\n",
       "      <td>0</td>\n",
       "      <td>1</td>\n",
       "      <td>6</td>\n",
       "      <td>1</td>\n",
       "      <td>226.0</td>\n",
       "      <td>1.0</td>\n",
       "      <td>0.0</td>\n",
       "      <td>0</td>\n",
       "      <td>1.1</td>\n",
       "    </tr>\n",
       "    <tr>\n",
       "      <th>3</th>\n",
       "      <td>2</td>\n",
       "      <td>0</td>\n",
       "      <td>1</td>\n",
       "      <td>1</td>\n",
       "      <td>0</td>\n",
       "      <td>0</td>\n",
       "      <td>0</td>\n",
       "      <td>1</td>\n",
       "      <td>6</td>\n",
       "      <td>1</td>\n",
       "      <td>151.0</td>\n",
       "      <td>1.0</td>\n",
       "      <td>0.0</td>\n",
       "      <td>0</td>\n",
       "      <td>1.1</td>\n",
       "    </tr>\n",
       "    <tr>\n",
       "      <th>4</th>\n",
       "      <td>4</td>\n",
       "      <td>7</td>\n",
       "      <td>1</td>\n",
       "      <td>3</td>\n",
       "      <td>0</td>\n",
       "      <td>0</td>\n",
       "      <td>2</td>\n",
       "      <td>1</td>\n",
       "      <td>6</td>\n",
       "      <td>1</td>\n",
       "      <td>307.0</td>\n",
       "      <td>1.0</td>\n",
       "      <td>0.0</td>\n",
       "      <td>0</td>\n",
       "      <td>1.1</td>\n",
       "    </tr>\n",
       "  </tbody>\n",
       "</table>\n",
       "</div>"
      ],
      "text/plain": [
       "   age  job  marital  education  default  housing  loan  contact  month  \\\n",
       "0    4    3        1          0        0        0     0        1      6   \n",
       "1    4    7        1          3        1        0     0        1      6   \n",
       "2    2    7        1          3        0        2     0        1      6   \n",
       "3    2    0        1          1        0        0     0        1      6   \n",
       "4    4    7        1          3        0        0     2        1      6   \n",
       "\n",
       "   day_of_week  duration  campaign  previous  poutcome  emp.var.rate  \n",
       "0            1     261.0       1.0       0.0         0           1.1  \n",
       "1            1     149.0       1.0       0.0         0           1.1  \n",
       "2            1     226.0       1.0       0.0         0           1.1  \n",
       "3            1     151.0       1.0       0.0         0           1.1  \n",
       "4            1     307.0       1.0       0.0         0           1.1  "
      ]
     },
     "execution_count": 86,
     "metadata": {},
     "output_type": "execute_result"
    }
   ],
   "source": [
    "x1.head()"
   ]
  },
  {
   "cell_type": "code",
   "execution_count": 83,
   "id": "5edf1bfa",
   "metadata": {},
   "outputs": [],
   "source": [
    "#splitting the data to train and test set"
   ]
  },
  {
   "cell_type": "code",
   "execution_count": 85,
   "id": "db6bcb78",
   "metadata": {},
   "outputs": [],
   "source": [
    "from sklearn.model_selection import train_test_split"
   ]
  },
  {
   "cell_type": "code",
   "execution_count": 89,
   "id": "9eec926c",
   "metadata": {},
   "outputs": [
    {
     "name": "stdout",
     "output_type": "stream",
     "text": [
      "(27324, 15)\n",
      "(3036, 15)\n",
      "(27324,)\n",
      "(3036,)\n"
     ]
    }
   ],
   "source": [
    "x_train,x_test,y_train,y_test = train_test_split(x1,y,test_size = 0.1,random_state = 0)\n",
    "\n",
    "print(x_train.shape)\n",
    "print(x_test.shape)\n",
    "print(y_train.shape)\n",
    "print(y_test.shape)"
   ]
  },
  {
   "cell_type": "code",
   "execution_count": 90,
   "id": "ed8c60ed",
   "metadata": {},
   "outputs": [],
   "source": [
    "#creating the model"
   ]
  },
  {
   "cell_type": "code",
   "execution_count": 92,
   "id": "02e97ef6",
   "metadata": {},
   "outputs": [],
   "source": [
    "\n",
    "from sklearn.linear_model import LogisticRegression\n",
    "model = LogisticRegression()"
   ]
  },
  {
   "cell_type": "code",
   "execution_count": 93,
   "id": "55ae39af",
   "metadata": {},
   "outputs": [
    {
     "name": "stderr",
     "output_type": "stream",
     "text": [
      "C:\\Users\\HP\\anaconda3\\lib\\site-packages\\sklearn\\linear_model\\_logistic.py:814: ConvergenceWarning: lbfgs failed to converge (status=1):\n",
      "STOP: TOTAL NO. of ITERATIONS REACHED LIMIT.\n",
      "\n",
      "Increase the number of iterations (max_iter) or scale the data as shown in:\n",
      "    https://scikit-learn.org/stable/modules/preprocessing.html\n",
      "Please also refer to the documentation for alternative solver options:\n",
      "    https://scikit-learn.org/stable/modules/linear_model.html#logistic-regression\n",
      "  n_iter_i = _check_optimize_result(\n"
     ]
    }
   ],
   "source": [
    "model.fit(x_train,y_train)\n",
    "y_pred = model.predict(x_test)"
   ]
  },
  {
   "cell_type": "code",
   "execution_count": 95,
   "id": "cc7fadee",
   "metadata": {},
   "outputs": [],
   "source": [
    "from sklearn.metrics import accuracy_score, confusion_matrix"
   ]
  },
  {
   "cell_type": "code",
   "execution_count": 97,
   "id": "b38d6e7d",
   "metadata": {},
   "outputs": [
    {
     "name": "stdout",
     "output_type": "stream",
     "text": [
      "94.40052700922266\n"
     ]
    }
   ],
   "source": [
    "accuracy = accuracy_score(y_test,y_pred)\n",
    "print(accuracy*100)"
   ]
  },
  {
   "cell_type": "code",
   "execution_count": 98,
   "id": "f945cc26",
   "metadata": {},
   "outputs": [],
   "source": [
    "#so here we got an accuracy score of 94% "
   ]
  },
  {
   "cell_type": "code",
   "execution_count": 99,
   "id": "1b9ad653",
   "metadata": {},
   "outputs": [
    {
     "data": {
      "text/plain": [
       "array([[2843,   33],\n",
       "       [ 137,   23]], dtype=int64)"
      ]
     },
     "execution_count": 99,
     "metadata": {},
     "output_type": "execute_result"
    }
   ],
   "source": [
    "confusion_matrix(y_test,y_pred)"
   ]
  },
  {
   "cell_type": "code",
   "execution_count": 100,
   "id": "16516926",
   "metadata": {},
   "outputs": [],
   "source": [
    "# Confusion matrix is a performance evaluation technique used in machine learning and statistics to measure the accuracy and quality of a classification or prediction model. It is a matrix that summarizes the number of correct and incorrect predictions made by the model on a set of data, broken down by class or category.\n",
    "\n",
    "# A confusion matrix typically consists of four metrics:\n",
    "\n",
    "# True Positive (TP): the number of instances in which the model correctly predicted the positive class \n",
    "#     (e.g., a person who has a disease is correctly diagnosed as positive).\n",
    "\n",
    "# False Positive (FP): the number of instances in which the model incorrectly predicted the positive class\n",
    "#     (e.g., a person who does not have a disease is incorrectly diagnosed as positive).\n",
    "\n",
    "# True Negative (TN): the number of instances in which the model correctly predicted the negative class \n",
    "#     (e.g., a person who does not have a disease is correctly diagnosed as negative).\n",
    "\n",
    "# False Negative (FN): the number of instances in which the model incorrectly predicted the negative class \n",
    "#     (e.g., a person who has a disease is incorrectly diagnosed as negative).\n",
    "\n",
    "# From these metrics, several other metrics can be derived, such as precision, recall, F1 score, \n",
    "# and accuracy, which can provide a more nuanced understanding of the model's performance on \n",
    "# different classes or categories. Confusion matrices can be visualized as heatmaps or tables, \n",
    "# and they are often used in model selection, hyperparameter tuning, and performance monitoring.\n",
    "\n",
    "\n",
    "# Precision, recall, F1 score, and accuracy are commonly used performance metrics in classification or \n",
    "# prediction tasks, such as machine learning or data mining. Here's a brief overview of each metric:\n",
    "\n",
    "# Precision: Precision is the fraction of true positives (TP) over the sum of true positives and false \n",
    "#     positives (FP). In other words, precision measures how many of the instances predicted as positive \n",
    "#     by the model are actually positive. High precision indicates low false positive rate.\n",
    "\n",
    "# Recall: Recall is the fraction of true positives (TP) over the sum of true positives and false negatives \n",
    "#     (FN). In other words, recall measures how many of the actual positive instances were correctly predicted \n",
    "#     as positive by the model. High recall indicates low false negative rate.\n",
    "\n",
    "# F1 score: F1 score is the harmonic mean of precision and recall, i.e., 2*(precision * recall) / (precision + recall).\n",
    "#     F1 score combines the precision and recall metrics into a single measure of performance. High F1 score indicates\n",
    "#     high accuracy and balance between precision and recall.\n",
    "\n",
    "# Accuracy: Accuracy is the fraction of correct predictions over the total number of predictions. \n",
    "#     In other words, accuracy measures how many of the instances in the test set were correctly \n",
    "#     predicted by the model. However, accuracy may not be a good metric for imbalanced datasets, \n",
    "#     where one class dominates the others.\n",
    "\n",
    "# By analyzing precision, recall, F1 score, and accuracy, one can assess the strengths and \n",
    "# weaknesses of a classification model and make informed decisions about its suitability for \n",
    "# a specific task or domain. It's important to note that different metrics may be more \n",
    "# appropriate for different types of problems or applications, and it's often a good idea\n",
    "# to use multiple metrics to evaluate model performance.\n",
    "\n"
   ]
  },
  {
   "cell_type": "code",
   "execution_count": 101,
   "id": "75a663aa",
   "metadata": {},
   "outputs": [],
   "source": [
    "#so according to our confusion matrix we can calculate the below\n",
    "\n",
    "# Precision = TP / (TP + FP) = 2843 / (2843 + 33) = 0.98\n",
    "# Recall = TP / (TP + FN) = 2843 / (2843 + 137) = 0.95\n",
    "# F1 score = 2 * (precision * recall) / (precision + recall) = 2 * (0.98 * 0.95) / (0.98 + 0.95) = 0.65\n",
    "# Accuracy = (TP + TN) / (TP + TN + FP + FN) = (2843 + 23) / (2843 + 23 + 33 + 137) = 0.9493"
   ]
  },
  {
   "cell_type": "code",
   "execution_count": null,
   "id": "c592f7cb",
   "metadata": {},
   "outputs": [],
   "source": []
  }
 ],
 "metadata": {
  "kernelspec": {
   "display_name": "Python 3 (ipykernel)",
   "language": "python",
   "name": "python3"
  },
  "language_info": {
   "codemirror_mode": {
    "name": "ipython",
    "version": 3
   },
   "file_extension": ".py",
   "mimetype": "text/x-python",
   "name": "python",
   "nbconvert_exporter": "python",
   "pygments_lexer": "ipython3",
   "version": "3.9.12"
  }
 },
 "nbformat": 4,
 "nbformat_minor": 5
}
